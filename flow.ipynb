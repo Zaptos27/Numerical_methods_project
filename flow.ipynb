{
 "cells": [
  {
   "cell_type": "code",
   "execution_count": 1,
   "id": "387b488b-3ff9-4b05-be9b-679f9fa9edfc",
   "metadata": {},
   "outputs": [],
   "source": [
    "import matplotlib\n",
    "import matplotlib.pyplot as plt\n",
    "import numpy as np\n",
    "import seaborn as sns\n",
    "from numba import njit, prange\n",
    "from scipy import sparse"
   ]
  },
  {
   "cell_type": "code",
   "execution_count": 2,
   "id": "f02b949a-2347-4cef-8221-aad52315a3f7",
   "metadata": {},
   "outputs": [],
   "source": [
    "matplotlib.rcParams[\"font.size\"] = 15"
   ]
  },
  {
   "cell_type": "code",
   "execution_count": 3,
   "id": "82511bbc-3b37-4672-91ac-af662e629922",
   "metadata": {},
   "outputs": [],
   "source": [
    "matplotlib.rcParams[\"font.size\"] = 15"
   ]
  },
  {
   "cell_type": "code",
   "execution_count": 4,
   "id": "c0965dbf-6e2c-4a83-93db-9d43723d4dad",
   "metadata": {},
   "outputs": [],
   "source": [
    "matplotlib.rcParams[\"figure.figsize\"] = (10, 10)"
   ]
  },
  {
   "cell_type": "code",
   "execution_count": 5,
   "id": "52adc9e3-5121-40e6-9d66-22271282dc54",
   "metadata": {},
   "outputs": [],
   "source": [
    "sns.set_style(\"darkgrid\", {\"axes.facecolor\": \".9\"})"
   ]
  },
  {
   "cell_type": "code",
   "execution_count": null,
   "id": "330a0bc3-6cb4-4619-9e9e-a5abf7cf5e35",
   "metadata": {},
   "outputs": [],
   "source": [
    "def laplacian(N, dx):\n",
    "    _A_1 = sparse.eye(2*N)\n",
    "    D_2 = sparse.eye(2*N, k=1) + sparse.eye(2*N, k=-1) - 2 * _A_1\n",
    "    L = 1 / (dx**2) * (sparse.kron(D_2, _A_1) + sparse.kron(_A_1, D_2))\n",
    "    return L"
   ]
  },
  {
   "cell_type": "code",
   "execution_count": null,
   "id": "f92fab9b-7554-4886-995b-6f345815ef75",
   "metadata": {},
   "outputs": [],
   "source": [
    "def gradient(p, index):\n",
    "    return np.gradient(p)[index]"
   ]
  }
 ],
 "metadata": {
  "kernelspec": {
   "display_name": "Python 3 (ipykernel)",
   "language": "python",
   "name": "python3"
  },
  "language_info": {
   "codemirror_mode": {
    "name": "ipython",
    "version": 3
   },
   "file_extension": ".py",
   "mimetype": "text/x-python",
   "name": "python",
   "nbconvert_exporter": "python",
   "pygments_lexer": "ipython3",
   "version": "3.10.5"
  }
 },
 "nbformat": 4,
 "nbformat_minor": 5
}
