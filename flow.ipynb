{
 "cells": [
  {
   "cell_type": "code",
   "execution_count": 1,
   "id": "387b488b-3ff9-4b05-be9b-679f9fa9edfc",
   "metadata": {},
   "outputs": [],
   "source": [
    "import numpy as np\n",
    "from numba import njit, prange\n",
    "import matplotlib\n",
    "import matplotlib.pyplot as plt\n",
    "import seaborn as sns"
   ]
  },
  {
   "cell_type": "code",
   "execution_count": 2,
   "id": "f02b949a-2347-4cef-8221-aad52315a3f7",
   "metadata": {},
   "outputs": [],
   "source": [
    "matplotlib.rcParams[\"font.size\"] = 15"
   ]
  },
  {
   "cell_type": "code",
   "execution_count": 3,
   "id": "82511bbc-3b37-4672-91ac-af662e629922",
   "metadata": {},
   "outputs": [],
   "source": [
    "matplotlib.rcParams[\"font.size\"] = 15"
   ]
  },
  {
   "cell_type": "code",
   "execution_count": 4,
   "id": "c0965dbf-6e2c-4a83-93db-9d43723d4dad",
   "metadata": {},
   "outputs": [],
   "source": [
    "matplotlib.rcParams['figure.figsize'] = (10,10)"
   ]
  },
  {
   "cell_type": "code",
   "execution_count": 5,
   "id": "52adc9e3-5121-40e6-9d66-22271282dc54",
   "metadata": {},
   "outputs": [],
   "source": [
    "sns.set_style(\"darkgrid\", {\"axes.facecolor\": \".9\"})"
   ]
  },
  {
   "cell_type": "code",
   "execution_count": 6,
   "id": "bf73b8ed-dc5b-4799-86e8-3acc819bedde",
   "metadata": {},
   "outputs": [],
   "source": [
    "## write a function to do divagens\n",
    "## it takes a vector of functions"
   ]
  },
  {
   "cell_type": "code",
   "execution_count": 7,
   "id": "198c761f-3ffe-482a-8d29-0d96a876a09c",
   "metadata": {},
   "outputs": [],
   "source": [
    "## write a function to do gradient\n",
    "## it takes a function"
   ]
  },
  {
   "cell_type": "code",
   "execution_count": null,
   "id": "330a0bc3-6cb4-4619-9e9e-a5abf7cf5e35",
   "metadata": {},
   "outputs": [],
   "source": []
  }
 ],
 "metadata": {
  "kernelspec": {
   "display_name": "Python 3 (ipykernel)",
   "language": "python",
   "name": "python3"
  },
  "language_info": {
   "codemirror_mode": {
    "name": "ipython",
    "version": 3
   },
   "file_extension": ".py",
   "mimetype": "text/x-python",
   "name": "python",
   "nbconvert_exporter": "python",
   "pygments_lexer": "ipython3",
   "version": "3.10.5"
  }
 },
 "nbformat": 4,
 "nbformat_minor": 5
}
