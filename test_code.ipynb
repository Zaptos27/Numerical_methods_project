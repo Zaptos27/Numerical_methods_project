{
 "cells": [
  {
   "cell_type": "code",
   "execution_count": 15,
   "id": "3e2d5837-b6d4-474d-8bfe-29ff03c7c0cb",
   "metadata": {},
   "outputs": [],
   "source": [
    "import numpy as np\n",
    "from numba import njit, prange\n",
    "from scipy import sparse"
   ]
  },
  {
   "cell_type": "code",
   "execution_count": 19,
   "id": "dafbd67f-f486-49be-8840-028a071565d2",
   "metadata": {},
   "outputs": [],
   "source": [
    "def laplacian(N, dx):\n",
    "    _A_1 = sparse.eye(N)\n",
    "    D_2 = sparse.eye(N, k=1) + sparse.eye(N, k=-1) - 2 * _A_1\n",
    "    L = 1 / (dx**2) * (sparse.kron(D_2, _A_1) + sparse.kron(_A_1, D_2))\n",
    "    return L"
   ]
  },
  {
   "cell_type": "code",
   "execution_count": 20,
   "id": "f31302c0-59ca-437e-a1c0-ff197804b97f",
   "metadata": {},
   "outputs": [
    {
     "data": {
      "text/plain": [
       "<100x100 sparse matrix of type '<class 'numpy.float64'>'\n",
       "\twith 460 stored elements in Compressed Sparse Row format>"
      ]
     },
     "execution_count": 20,
     "metadata": {},
     "output_type": "execute_result"
    }
   ],
   "source": [
    "laplacian(10, 0.1)"
   ]
  },
  {
   "cell_type": "code",
   "execution_count": 18,
   "id": "44192a15-13b0-41b1-b721-cb59e9865e85",
   "metadata": {},
   "outputs": [
    {
     "data": {
      "text/plain": [
       "100"
      ]
     },
     "execution_count": 18,
     "metadata": {},
     "output_type": "execute_result"
    }
   ],
   "source": [
    "10 * 10"
   ]
  },
  {
   "cell_type": "code",
   "execution_count": 29,
   "id": "7d180ef8-5e29-4142-a3f1-d2a7a382f1f2",
   "metadata": {},
   "outputs": [],
   "source": [
    "A = np.random.rand(3, 3)"
   ]
  },
  {
   "cell_type": "code",
   "execution_count": 34,
   "id": "c06684b3-18b4-4adb-a3f6-dd09049ea60a",
   "metadata": {},
   "outputs": [
    {
     "data": {
      "text/plain": [
       "array([0.45409301, 0.25852559, 0.20651691])"
      ]
     },
     "execution_count": 34,
     "metadata": {},
     "output_type": "execute_result"
    }
   ],
   "source": [
    "np.diag(A)"
   ]
  },
  {
   "cell_type": "code",
   "execution_count": 31,
   "id": "e08a3e4d-28f1-4835-9f82-330a3d50d12f",
   "metadata": {},
   "outputs": [
    {
     "data": {
      "text/plain": [
       "array([[0.45409301, 0.21846916, 0.20702795],\n",
       "       [0.03598636, 0.25852559, 0.83146031],\n",
       "       [0.65242193, 0.82114557, 0.20651691]])"
      ]
     },
     "execution_count": 31,
     "metadata": {},
     "output_type": "execute_result"
    }
   ],
   "source": [
    "A"
   ]
  },
  {
   "cell_type": "code",
   "execution_count": null,
   "id": "44c5d7d6-795d-4143-a337-1d89bc861e78",
   "metadata": {},
   "outputs": [],
   "source": []
  }
 ],
 "metadata": {
  "kernelspec": {
   "display_name": "Python 3 (ipykernel)",
   "language": "python",
   "name": "python3"
  },
  "language_info": {
   "codemirror_mode": {
    "name": "ipython",
    "version": 3
   },
   "file_extension": ".py",
   "mimetype": "text/x-python",
   "name": "python",
   "nbconvert_exporter": "python",
   "pygments_lexer": "ipython3",
   "version": "3.10.5"
  }
 },
 "nbformat": 4,
 "nbformat_minor": 5
}
